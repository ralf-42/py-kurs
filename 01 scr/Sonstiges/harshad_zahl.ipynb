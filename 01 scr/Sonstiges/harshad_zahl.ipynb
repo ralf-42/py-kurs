{
 "cells": [
  {
   "cell_type": "markdown",
   "id": "bfce26ef",
   "metadata": {},
   "source": [
    "# Beispiel Harshad-Zahl\n",
    "---\n",
    "\n",
    "Eine Harshad-Zahl oder Niven-Zahl ist eine natürliche Zahl, die durch ihre Quersumme, das heißt die Summe ihrer Ziffern (im Dezimalsystem mit Basis 10), teilbar ist."
   ]
  },
  {
   "cell_type": "code",
   "execution_count": null,
   "id": "7d979332",
   "metadata": {
    "execution": {
     "iopub.execute_input": "2021-09-30T18:00:38.867977Z",
     "iopub.status.busy": "2021-09-30T18:00:38.866038Z"
    }
   },
   "outputs": [],
   "source": [
    "# Start\n",
    "n = int(input(\"Bitte die Zahl n eingeben: \"))\n",
    "zahl = 1\n",
    "while zahl < n:\n",
    "                \n",
    "        \n",
    "    for i in range(zahl,n):\n",
    "        neu = str(i) #aus der zahl i wird ein String gebildet...\n",
    "        liste = list(neu) #... der jetzt in seine Einzelteile zerlegt und diese in einer Liste gespeichert werden ...\n",
    "        summe = 0   \n",
    "        \n",
    "        for item in liste:\n",
    "            item = int(item) #... und nun wird jedes Einzelteil zu int konvertiert\n",
    "            summe += item #... damit alle Ziffern zur Quersumme addiert werden könen\n",
    "            \n",
    "        if i % summe  == 0:\n",
    "            print (f\"{i:3d} ist eine Harshad-zahl, QuerSumme: {summe:3d}\")\n",
    "          \n",
    "        zahl+=1\n",
    "        i+=1\n",
    "        \n",
    "print(\"Fertig\")"
   ]
  }
 ],
 "metadata": {
  "kernelspec": {
   "display_name": "Python 3.10.4 ('Py3_10_4')",
   "language": "python",
   "name": "python3"
  },
  "language_info": {
   "codemirror_mode": {
    "name": "ipython",
    "version": 3
   },
   "file_extension": ".py",
   "mimetype": "text/x-python",
   "name": "python",
   "nbconvert_exporter": "python",
   "pygments_lexer": "ipython3",
   "version": "3.10.4"
  },
  "vscode": {
   "interpreter": {
    "hash": "61100aa9df2abb5e56010daec0efdd737cbfa6e490e9f92fa83646ef014b2cd3"
   }
  },
  "widgets": {
   "application/vnd.jupyter.widget-state+json": {
    "state": {},
    "version_major": 2,
    "version_minor": 0
   }
  }
 },
 "nbformat": 4,
 "nbformat_minor": 5
}
